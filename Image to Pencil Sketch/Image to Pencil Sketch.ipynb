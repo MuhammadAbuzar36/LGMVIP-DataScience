{
 "cells": [
  {
   "cell_type": "markdown",
   "id": "b1582b9a",
   "metadata": {},
   "source": [
    "# Written by: Abu Zar Bhatti"
   ]
  },
  {
   "cell_type": "markdown",
   "id": "34407284",
   "metadata": {},
   "source": [
    "## Beginner Level Task:2"
   ]
  },
  {
   "cell_type": "markdown",
   "id": "41bb22b5",
   "metadata": {},
   "source": [
    "## Image to Pencil Sketch"
   ]
  },
  {
   "cell_type": "markdown",
   "id": "65bbc317",
   "metadata": {},
   "source": [
    "## Importing Libraries and Image"
   ]
  },
  {
   "cell_type": "code",
   "execution_count": 11,
   "id": "3ab148d3",
   "metadata": {},
   "outputs": [],
   "source": [
    "import cv2\n",
    "%matplotlib inline"
   ]
  },
  {
   "cell_type": "markdown",
   "id": "893d38e7",
   "metadata": {},
   "source": [
    "we are first going to import the picture"
   ]
  },
  {
   "cell_type": "code",
   "execution_count": 12,
   "id": "756cb069",
   "metadata": {},
   "outputs": [
    {
     "data": {
      "text/plain": [
       "-1"
      ]
     },
     "execution_count": 12,
     "metadata": {},
     "output_type": "execute_result"
    }
   ],
   "source": [
    "image=cv2.imread('shah.jpeg')\n",
    "im1=cv2.resize(image,(700,700))\n",
    "cv2.imshow('shahzad',im1)\n",
    "cv2.waitKey(0)"
   ]
  },
  {
   "cell_type": "markdown",
   "id": "d438a0a1",
   "metadata": {},
   "source": [
    "## Converting image to Gray Image"
   ]
  },
  {
   "cell_type": "markdown",
   "id": "df027cf3",
   "metadata": {},
   "source": [
    "now here we are converting the image to gray image"
   ]
  },
  {
   "cell_type": "code",
   "execution_count": 13,
   "id": "b047f72c",
   "metadata": {},
   "outputs": [
    {
     "data": {
      "text/plain": [
       "-1"
      ]
     },
     "execution_count": 13,
     "metadata": {},
     "output_type": "execute_result"
    }
   ],
   "source": [
    "gray_image=cv2.cvtColor(im1,cv2.COLOR_BGR2GRAY)\n",
    "cv2.imshow('gray_shahzad',gray_image)\n",
    "cv2.waitKey(0)"
   ]
  },
  {
   "cell_type": "markdown",
   "id": "b82b8b2f",
   "metadata": {},
   "source": [
    "## Converting gray to inverted image"
   ]
  },
  {
   "cell_type": "markdown",
   "id": "a1f61ae9",
   "metadata": {},
   "source": [
    "after converting it to gray we are converting it to inverted image"
   ]
  },
  {
   "cell_type": "code",
   "execution_count": 14,
   "id": "6d77e54e",
   "metadata": {},
   "outputs": [
    {
     "data": {
      "text/plain": [
       "-1"
      ]
     },
     "execution_count": 14,
     "metadata": {},
     "output_type": "execute_result"
    }
   ],
   "source": [
    "inverted_image=255-gray_image\n",
    "cv2.imshow('shahzad',inverted_image)\n",
    "cv2.waitKey(0)"
   ]
  },
  {
   "cell_type": "markdown",
   "id": "3ef5443a",
   "metadata": {},
   "source": [
    "## Blurring the image"
   ]
  },
  {
   "cell_type": "markdown",
   "id": "2c2e7dd2",
   "metadata": {},
   "source": [
    "then we will use GaussianBlur to blur the inverted image"
   ]
  },
  {
   "cell_type": "code",
   "execution_count": 15,
   "id": "743503ce",
   "metadata": {
    "scrolled": true
   },
   "outputs": [
    {
     "data": {
      "text/plain": [
       "-1"
      ]
     },
     "execution_count": 15,
     "metadata": {},
     "output_type": "execute_result"
    }
   ],
   "source": [
    "blur_image=cv2.GaussianBlur(inverted_image,(21,21),0)\n",
    "cv2.imshow('shahzad',blur_image)\n",
    "cv2.waitKey(0)"
   ]
  },
  {
   "cell_type": "markdown",
   "id": "5263d270",
   "metadata": {},
   "source": [
    "## Inverting the blurred image"
   ]
  },
  {
   "cell_type": "markdown",
   "id": "a69e04ba",
   "metadata": {},
   "source": [
    "then we will invert the blurred image"
   ]
  },
  {
   "cell_type": "code",
   "execution_count": 16,
   "id": "1cd2fa88",
   "metadata": {},
   "outputs": [
    {
     "data": {
      "text/plain": [
       "-1"
      ]
     },
     "execution_count": 16,
     "metadata": {},
     "output_type": "execute_result"
    }
   ],
   "source": [
    "inverted_blur=255-blur_image\n",
    "pencil_sketch=cv2.divide(gray_image,inverted_blur,scale=256.0)\n",
    "cv2.imshow('shahzad',pencil_sketch)\n",
    "cv2.waitKey(0)"
   ]
  },
  {
   "cell_type": "markdown",
   "id": "4c7d1646",
   "metadata": {},
   "source": [
    "in the end, we are dividing the gray image with the inverted blurred image which in the result gives us pencil sketch of that image"
   ]
  }
 ],
 "metadata": {
  "kernelspec": {
   "display_name": "Python 3 (ipykernel)",
   "language": "python",
   "name": "python3"
  },
  "language_info": {
   "codemirror_mode": {
    "name": "ipython",
    "version": 3
   },
   "file_extension": ".py",
   "mimetype": "text/x-python",
   "name": "python",
   "nbconvert_exporter": "python",
   "pygments_lexer": "ipython3",
   "version": "3.9.7"
  }
 },
 "nbformat": 4,
 "nbformat_minor": 5
}
